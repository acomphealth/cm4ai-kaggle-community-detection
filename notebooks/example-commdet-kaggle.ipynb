{
 "cells": [
  {
   "cell_type": "code",
   "execution_count": null,
   "metadata": {
    "_cell_guid": "b1076dfc-b9ad-4769-8c92-a6c4dae69d19",
    "_uuid": "8f2839f25d086af736a60e9eeb907d3b93b6e0e5",
    "execution": {
     "iopub.execute_input": "2025-05-08T20:09:53.913705Z",
     "iopub.status.busy": "2025-05-08T20:09:53.913366Z",
     "iopub.status.idle": "2025-05-08T20:09:54.457137Z",
     "shell.execute_reply": "2025-05-08T20:09:54.455696Z",
     "shell.execute_reply.started": "2025-05-08T20:09:53.913679Z"
    },
    "trusted": true
   },
   "outputs": [],
   "source": [
    "import pandas as pd \n",
    "import os\n",
    "from cellmaps_utils.provenance import ProvenanceUtil"
   ]
  },
  {
   "cell_type": "code",
   "execution_count": null,
   "metadata": {
    "trusted": true
   },
   "outputs": [],
   "source": [
    "# Create Embedding RO-Crate to use it with cellmaps_generate_hierarchy and save the embedding table\n",
    "# As cellmaps_generate_hierarchy looks for specific file names for embeddings in embedding ro-crate, we name the embedding file: coembedding_emd.tsv.\n",
    "\n",
    "embedding_rocrate_path = '/kaggle/working/embedding'\n",
    "if not os.path.exists(embedding_rocrate_path):\n",
    "    os.mkdir(embedding_rocrate_path)\n",
    "\n",
    "prov_utils = ProvenanceUtil(fairscape_binary='/usr/local/lib/python3.11/dist-packages/fairscape_cli/', raise_on_error=True)\n",
    "\n",
    "embedding_file_path = '/kaggle/working/embedding/coembedding_emd.tsv'\n",
    "if not os.path.exists(embedding_file_path):\n",
    "    # Replace NaN values in embedding table with zeros\n",
    "    df = pd.read_table('/kaggle/input/cm4ai-community-detection-protein-co-elution/repl1_repl2_combined.tsv', index_col=0)\n",
    "    df.fillna(0, inplace=True)\n",
    "    df.to_csv(embedding_file_path, sep='\\t')\n",
    "    # Generate provenance for Embedding File\n",
    "    prov_utils.register_rocrate(embedding_rocrate_path,\n",
    "                                name='Kaggle Challenge Embedding Data',\n",
    "                                organization_name='Ideker Lab',\n",
    "                                project_name='Kaggle Challenge',\n",
    "                                description='Kaggle Challenge Embedding Data',\n",
    "                                keywords=['kaggle', 'challenge', 'embedding'])"
   ]
  },
  {
   "cell_type": "code",
   "execution_count": null,
   "metadata": {
    "trusted": true
   },
   "outputs": [],
   "source": [
    "# Generate hierarchy with cellmaps_generate_hierarchy\n",
    "from cellmaps_generate_hierarchy.ppi import CosineSimilarityPPIGenerator\n",
    "from cellmaps_generate_hierarchy.hierarchy import CDAPSHiDeFHierarchyGenerator\n",
    "from cellmaps_generate_hierarchy.maturehierarchy import HiDeFHierarchyRefiner\n",
    "from cellmaps_generate_hierarchy.hcx import HCXFromCDAPSCXHierarchy\n",
    "from cellmaps_generate_hierarchy.runner import CellmapsGenerateHierarchy\n",
    "\n",
    "inputdir = embedding_rocrate_path\n",
    "outdir = '/kaggle/working/hierarchydir'\n",
    "\n",
    "# Sets the cutoffs used to generate edgelists fed to HiDeF. \n",
    "# The defaults take a long time to run so these have been shortened to run quickly\n",
    "\n",
    "PPI_CUTOFFS = [0.001, 0.002, 0.003]\n",
    "\n",
    "# Generator that creates edge lists used as input for HiDeF\n",
    "ppigen = CosineSimilarityPPIGenerator(embeddingdirs=[inputdir], cutoffs=PPI_CUTOFFS)\n",
    "\n",
    "# Refiner that performs some cleanup of the hierarchy\n",
    "refiner = HiDeFHierarchyRefiner(provenance_utils=prov_utils)\n",
    "\n",
    "# Converter that converts CDAPS CX hierarchy into HCX format\n",
    "converter = HCXFromCDAPSCXHierarchy()\n",
    "\n",
    "# Creates hierarchy generator\n",
    "hiergen = CDAPSHiDeFHierarchyGenerator(hidef_cmd='/usr/local/lib/python3.11/dist-packages/hidef/hidef_finder.py',\n",
    "                                       refiner=refiner,\n",
    "                                       hcxconverter=converter,\n",
    "                                       provenance_utils=prov_utils)\n",
    "\n",
    "# Constructor of the object that takes all the objects created above to make a hierarchy\n",
    "x = CellmapsGenerateHierarchy(outdir=outdir,inputdirs=inputdir,ppigen=ppigen,hiergen=hiergen,provenance_utils=prov_utils)\n",
    "\n",
    "# Runs the hierarchy generation\n",
    "x.run()"
   ]
  },
  {
   "cell_type": "code",
   "execution_count": null,
   "metadata": {
    "trusted": true
   },
   "outputs": [],
   "source": [
    "# Generate submission result file\n",
    "\n",
    "from ndex2.cx2 import RawCX2NetworkFactory\n",
    "\n",
    "factory = RawCX2NetworkFactory()\n",
    "\n",
    "net = factory.get_cx2network(f'{outdir}/hierarchy.cx2')\n",
    "\n",
    "data = []\n",
    "for node_id, node_obj in net.get_nodes().items():\n",
    "    genes = node_obj['v']['CD_MemberList'].split()\n",
    "    for gene in genes:\n",
    "        data.append({\n",
    "            'xxx': gene,\n",
    "            'prediction': node_id\n",
    "        })\n",
    "\n",
    "df = pd.DataFrame(data, columns=['xxx', 'prediction'])\n",
    "df = df[['xxx', 'prediction']]\n",
    "df.to_csv('/kaggle/working/submission.csv', index=True, index_label=\"ID\")"
   ]
  },
  {
   "cell_type": "code",
   "execution_count": null,
   "metadata": {
    "trusted": true
   },
   "outputs": [],
   "source": []
  }
 ],
 "metadata": {
  "kaggle": {
   "accelerator": "none",
   "dataSources": [
    {
     "databundleVersionId": 12146938,
     "sourceId": 99330,
     "sourceType": "competition"
    }
   ],
   "dockerImageVersionId": 31012,
   "isGpuEnabled": false,
   "isInternetEnabled": true,
   "language": "python",
   "sourceType": "notebook"
  },
  "kernelspec": {
   "display_name": "Python 3",
   "language": "python",
   "name": "python3"
  },
  "language_info": {
   "codemirror_mode": {
    "name": "ipython",
    "version": 3
   },
   "file_extension": ".py",
   "mimetype": "text/x-python",
   "name": "python",
   "nbconvert_exporter": "python",
   "pygments_lexer": "ipython3",
   "version": "3.11.11"
  }
 },
 "nbformat": 4,
 "nbformat_minor": 4
}
